{
 "cells": [
  {
   "cell_type": "code",
   "execution_count": 3,
   "metadata": {
    "collapsed": true,
    "pycharm": {
     "is_executing": false
    }
   },
   "outputs": [
    {
     "name": "stdout",
     "text": [
      "<generator object Tokenizer.cut at 0x0000021887E53A98>\n['我', '爱', '中华', '，', '美好', '的', '国家', '。']\n['I', ' ', 'love', ' ', 'China', ',', 'my', ' ', 'beautiful', ' ', 'country', '.']\n"
     ],
     "output_type": "stream"
    }
   ],
   "source": [
    "import jieba\n",
    "\n",
    "a ='我爱中华，美好的国家。'\n",
    "b ='I love China,my beautiful country.'\n",
    "c =jieba.cut(a)\n",
    "d =jieba.cut(b)\n",
    "print(c) # 现在返回序列，为了性能，很多都是迭代器出来\n",
    "print(list(c))\n",
    "print(list(d))"
   ]
  },
  {
   "cell_type": "code",
   "execution_count": null,
   "outputs": [],
   "source": [
    "\n"
   ],
   "metadata": {
    "collapsed": false,
    "pycharm": {
     "name": "#%%\n"
    }
   }
  }
 ],
 "metadata": {
  "language_info": {
   "codemirror_mode": {
    "name": "ipython",
    "version": 2
   },
   "file_extension": ".py",
   "mimetype": "text/x-python",
   "name": "python",
   "nbconvert_exporter": "python",
   "pygments_lexer": "ipython2",
   "version": "2.7.6"
  },
  "kernelspec": {
   "name": "python3",
   "language": "python",
   "display_name": "Python 3"
  },
  "pycharm": {
   "stem_cell": {
    "cell_type": "raw",
    "source": [],
    "metadata": {
     "collapsed": false
    }
   }
  }
 },
 "nbformat": 4,
 "nbformat_minor": 0
}